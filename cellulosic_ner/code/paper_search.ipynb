{
 "cells": [
  {
   "cell_type": "code",
   "execution_count": 7,
   "id": "9afc3363",
   "metadata": {},
   "outputs": [],
   "source": [
    "import requests\n",
    "import time"
   ]
  },
  {
   "cell_type": "code",
   "execution_count": 134,
   "id": "d5513d2f",
   "metadata": {},
   "outputs": [],
   "source": [
    "def collect_papers(target, query, limit, offset=0):\n",
    "    open_access_papers = []\n",
    "    non_open_access_papers = []\n",
    "    papers_in_error_list = []\n",
    "    counter = 1\n",
    "    \n",
    "    while len(open_access_papers) + len(non_open_access_papers) + len(papers_in_error_list) < target:\n",
    "        \n",
    "        # fetch paper list\n",
    "        paper_list = search_papers(query=query, limit=limit, offset=offset)\n",
    "        \n",
    "        # fetch paper details\n",
    "        for basic_paper_info in paper_list:\n",
    "            paper_id = basic_paper_info['paperId']\n",
    "            additional_paper_info = fetch_paper_details(paper_id)\n",
    "\n",
    "            # categorize papers in open access, non open access and error list\n",
    "            if additional_paper_info is not None:\n",
    "                paper_profile = {**basic_paper_info, **additional_paper_info}\n",
    "                if paper_profile['isOpenAccess']:\n",
    "                    paper_serial = {'serial': counter}\n",
    "                    paper_profile_numbered = {**paper_serial, **paper_profile}\n",
    "                    open_access_papers.append(paper_profile_numbered)\n",
    "                    print(f'Retrieved => Paper {counter}')\n",
    "                else:\n",
    "                    paper_serial = {'serial': counter}\n",
    "                    paper_profile_numbered = {**paper_serial, **paper_profile}\n",
    "                    non_open_access_papers.append(paper_profile_numbered)\n",
    "                    print(f'Non-open Access => Paper {counter}')\n",
    "            else:\n",
    "                paper_serial = {'serial': counter}\n",
    "                basic_paper_info_numbered = {**paper_serial, **basic_paper_info}\n",
    "                papers_in_error_list.append(basic_paper_info_numbered)\n",
    "                print(f'==> ERROR => Paper {counter}')\n",
    "\n",
    "            time.sleep(1)\n",
    "            counter += 1\n",
    "\n",
    "        if not paper_list:\n",
    "            break\n",
    "\n",
    "        offset += limit\n",
    "        time.sleep(1)\n",
    "    \n",
    "    # fetch paper details for error list\n",
    "    print('\\nChecking error list...')\n",
    "    print(f'\\nPapers in error list: {len(papers_in_error_list)}\\n')\n",
    "    if papers_in_error_list:\n",
    "        while papers_in_error_list:\n",
    "            open_, non_open, error = execute_error_list(papers_in_error_list)\n",
    "            open_access_papers.extend(open_)\n",
    "            non_open_access_papers.extend(non_open)\n",
    "            papers_in_error_list = error.copy()\n",
    "        print('\\nError list cleared!')\n",
    "        \n",
    "    # Rearrange the list in descending order based on 'citationCount'\n",
    "    global open_access_papers_sorted\n",
    "    open_access_papers_sorted = sorted(open_access_papers, key=lambda x: x['citationCount'], reverse=True)\n",
    "    \n",
    "    print(f'\\n{len(open_access_papers_sorted)} Open access papers: {open_access_papers_sorted}')\n",
    "    print(f'\\n{len(non_open_access_papers)} Non-open access papers: {non_open_access_papers}')\n",
    "\n",
    "    print('\\nDownloading PDFs of open access papers...\\n')\n",
    "    download_pdf(open_access_papers_sorted)\n",
    "    print('\\nPapers dowloaded!')"
   ]
  },
  {
   "cell_type": "code",
   "execution_count": 135,
   "id": "5037a790",
   "metadata": {},
   "outputs": [],
   "source": [
    "def search_papers(query, limit, offset):\n",
    "    api_key = 'R4SSSz3eshKj9OjFSzre9QIzp6syQQbaCNmkuUA5'\n",
    "    search_url = 'https://api.semanticscholar.org/graph/v1/paper/search'\n",
    "    search_parameters = {\n",
    "        'query': query,\n",
    "        'limit': limit,\n",
    "        'offset': offset\n",
    "    }\n",
    "    headers = {\n",
    "        'x-api-key': api_key\n",
    "    }\n",
    "\n",
    "    response = requests.get(search_url, params=search_parameters, headers=headers)\n",
    "\n",
    "    if response.status_code == 200:\n",
    "        paper_list = response.json().get('data')\n",
    "        return paper_list\n",
    "    else:\n",
    "        print(f\"Request failed with status code {response.status_code}: {response.text}\")"
   ]
  },
  {
   "cell_type": "code",
   "execution_count": 136,
   "id": "c96a860d",
   "metadata": {},
   "outputs": [],
   "source": [
    "def fetch_paper_details(paper_id):\n",
    "    api_key = 'R4SSSz3eshKj9OjFSzre9QIzp6syQQbaCNmkuUA5'\n",
    "    base_url = 'https://api.semanticscholar.org/graph/v1/paper/' + paper_id\n",
    "    paper_data = {\n",
    "        'fields': 'citationCount,influentialCitationCount,isOpenAccess,openAccessPdf'\n",
    "    }\n",
    "    headers = {\n",
    "        'x-api-key': api_key\n",
    "    }\n",
    "\n",
    "    response = requests.get(base_url, params=paper_data, headers=headers)\n",
    "    if response.status_code == 200:\n",
    "        return response.json()\n",
    "    else:\n",
    "        return None\n",
    "    "
   ]
  },
  {
   "cell_type": "code",
   "execution_count": 137,
   "id": "ebff6ab2",
   "metadata": {},
   "outputs": [],
   "source": [
    "def execute_error_list(paper_list):\n",
    "    open_access_papers = []\n",
    "    non_open_access_papers = []\n",
    "    papers_in_error_list = []\n",
    "    \n",
    "    # fetch paper details\n",
    "    for basic_paper_info in paper_list:\n",
    "        paper_id = basic_paper_info['paperId']\n",
    "        additional_paper_info = fetch_paper_details(paper_id)\n",
    "\n",
    "        # categorize papers in open access, non open access and error list\n",
    "        if additional_paper_info is not None:\n",
    "            paper_profile = {**basic_paper_info, **additional_paper_info}\n",
    "            if paper_profile['isOpenAccess']:\n",
    "                open_access_papers.append(paper_profile)\n",
    "                print(f'Retrieved => Paper {basic_paper_info[\"serial\"]}')\n",
    "            else:\n",
    "                non_open_access_papers.append(paper_profile)\n",
    "                print(f'Non-open Access => Paper {basic_paper_info[\"serial\"]}')\n",
    "        else:\n",
    "            papers_in_error_list.append(basic_paper_info)\n",
    "            print(f'==> ERROR => Paper {basic_paper_info[\"serial\"]}')\n",
    "\n",
    "        time.sleep(2)\n",
    "    return open_access_papers, non_open_access_papers, papers_in_error_list"
   ]
  },
  {
   "cell_type": "code",
   "execution_count": 138,
   "id": "7d89d43e",
   "metadata": {},
   "outputs": [],
   "source": [
    "def download_pdf(open_access_papers_sorted):\n",
    "\n",
    "    for _ in open_access_papers_sorted:\n",
    "        \n",
    "        # URL of the PDF file\n",
    "        url = _['openAccessPdf']['url']\n",
    "        pdf_locator = url\n",
    "\n",
    "        # Send a GET request to the URL\n",
    "        response = requests.get(pdf_locator)\n",
    "\n",
    "        # Check if the request was successful (status code 200)\n",
    "        if response.status_code == 200:\n",
    "            # Get the content of the response (PDF content)\n",
    "            pdf_content = response.content\n",
    "\n",
    "            # Save the PDF content to a file\n",
    "            with open(f'downloads/sl_{_[\"serial\"]}_citation_{_[\"citationCount\"]}.pdf', 'wb') as pdf_file:\n",
    "                pdf_file.write(pdf_content)\n",
    "            print(\"PDF downloaded successfully.\")\n",
    "        else:\n",
    "            print(\"Failed to download the PDF.\")"
   ]
  },
  {
   "cell_type": "code",
   "execution_count": 139,
   "id": "3a8b1435",
   "metadata": {
    "scrolled": true
   },
   "outputs": [
    {
     "name": "stdout",
     "output_type": "stream",
     "text": [
      "==> ERROR => Paper 1\n",
      "==> ERROR => Paper 2\n",
      "Non-open Access => Paper 3\n",
      "Non-open Access => Paper 4\n",
      "Retrieved => Paper 5\n",
      "Non-open Access => Paper 6\n",
      "Retrieved => Paper 7\n",
      "Retrieved => Paper 8\n",
      "Non-open Access => Paper 9\n",
      "Non-open Access => Paper 10\n",
      "\n",
      "Checking error list...\n",
      "\n",
      "Papers in error list: 2\n",
      "\n",
      "Retrieved => Paper 1\n",
      "Retrieved => Paper 2\n",
      "\n",
      "Error list cleared!\n",
      "\n",
      "5 Open access papers: [{'serial': 8, 'paperId': 'c74c1051ef4b6b0fe44278a4f569e8c853b15727', 'title': 'Recent Strategies in Preparation of Cellulose Nanocrystals and Cellulose Nanofibrils Derived from Raw Cellulose Materials', 'citationCount': 208, 'influentialCitationCount': 7, 'isOpenAccess': True, 'openAccessPdf': {'url': 'https://downloads.hindawi.com/journals/ijps/2018/7923068.pdf', 'status': 'GOLD'}}, {'serial': 5, 'paperId': 'd519be630c979d637adfb29f7db02f8fe398ee3b', 'title': '3D printing with cellulose materials', 'citationCount': 201, 'influentialCitationCount': 1, 'isOpenAccess': True, 'openAccessPdf': {'url': 'https://link.springer.com/content/pdf/10.1007%2Fs10570-018-1888-y.pdf', 'status': 'BRONZE'}}, {'serial': 2, 'paperId': '0436b4fa3614f8918fbe17ae6193c2b59729bbfc', 'title': 'Overview on Foam Forming Cellulose Materials for Cushioning Packaging Applications', 'citationCount': 21, 'influentialCitationCount': 0, 'isOpenAccess': True, 'openAccessPdf': {'url': 'https://www.mdpi.com/2073-4360/14/10/1963/pdf?version=1652334225', 'status': 'GOLD'}}, {'serial': 7, 'paperId': '7abaa878f50330428dccc01728d479074be2f16b', 'title': 'Influence of Size Classifications on the Structural and Solid-State Characterization of Cellulose Materials', 'citationCount': 9, 'influentialCitationCount': 0, 'isOpenAccess': True, 'openAccessPdf': {'url': 'https://www.intechopen.com/citation-pdf-url/65563', 'status': 'HYBRID'}}, {'serial': 1, 'paperId': '1f90ab1392d01dfe6019c477198b7da2ceb6801c', 'title': 'Cellulose materials with high light transmittance and high haze: a review', 'citationCount': 7, 'influentialCitationCount': 0, 'isOpenAccess': True, 'openAccessPdf': {'url': 'https://www.researchsquare.com/article/rs-1310113/latest.pdf', 'status': 'GREEN'}}]\n",
      "\n",
      "5 Non-open access papers: [{'serial': 3, 'paperId': 'bc555a0778aabb18da143c2b8e6d51626909e5dc', 'title': 'Recent Progress in High‐Strength and Robust Regenerated Cellulose Materials', 'citationCount': 254, 'influentialCitationCount': 1, 'isOpenAccess': False, 'openAccessPdf': None}, {'serial': 4, 'paperId': '622eee7edda938a9d487f9174d23571f43a4641d', 'title': 'Regenerated Cellulose Materials', 'citationCount': 0, 'influentialCitationCount': 0, 'isOpenAccess': False, 'openAccessPdf': None}, {'serial': 6, 'paperId': '94eacab43e3703b9b16e707b10451f78537e5f2e', 'title': 'Recent developments of cellulose materials for lithium-ion battery separators', 'citationCount': 140, 'influentialCitationCount': 2, 'isOpenAccess': False, 'openAccessPdf': None}, {'serial': 9, 'paperId': '49df12776555ec63fd3670bba9063fcaefb02bd6', 'title': 'Recent advances in regenerated cellulose materials', 'citationCount': 722, 'influentialCitationCount': 12, 'isOpenAccess': False, 'openAccessPdf': None}, {'serial': 10, 'paperId': 'd051e94c3609c627cc59db2fced5596ac228799d', 'title': 'Bioinspired Smart Moisture Actuators Based on Nanoscale Cellulose Materials and Porous, Hydrophilic EVOH Nanofibrous Membranes.', 'citationCount': 66, 'influentialCitationCount': 0, 'isOpenAccess': False, 'openAccessPdf': None}]\n",
      "\n",
      "Downloading PDFs of open access papers...\n",
      "\n",
      "PDF downloaded successfully.\n",
      "PDF downloaded successfully.\n",
      "PDF downloaded successfully.\n",
      "PDF downloaded successfully.\n",
      "PDF downloaded successfully.\n",
      "\n",
      "Papers dowloaded!\n"
     ]
    }
   ],
   "source": [
    "collect_papers(target=10, query='cellulose materials', limit=10, offset=0)"
   ]
  },
  {
   "cell_type": "code",
   "execution_count": 102,
   "id": "f09dcf18",
   "metadata": {},
   "outputs": [
    {
     "name": "stdout",
     "output_type": "stream",
     "text": [
      "2024-04-20 11:55:19.072094\n"
     ]
    }
   ],
   "source": [
    "import datetime as dt\n",
    "\n",
    "print(dt.datetime.now())"
   ]
  },
  {
   "cell_type": "code",
   "execution_count": null,
   "id": "70d71bdf",
   "metadata": {},
   "outputs": [],
   "source": []
  },
  {
   "cell_type": "code",
   "execution_count": null,
   "id": "14356207",
   "metadata": {},
   "outputs": [],
   "source": []
  },
  {
   "cell_type": "code",
   "execution_count": null,
   "id": "d9d794f0",
   "metadata": {},
   "outputs": [],
   "source": []
  }
 ],
 "metadata": {
  "kernelspec": {
   "display_name": "Python 3",
   "language": "python",
   "name": "python3"
  },
  "language_info": {
   "codemirror_mode": {
    "name": "ipython",
    "version": 3
   },
   "file_extension": ".py",
   "mimetype": "text/x-python",
   "name": "python",
   "nbconvert_exporter": "python",
   "pygments_lexer": "ipython3",
   "version": "3.8.8"
  }
 },
 "nbformat": 4,
 "nbformat_minor": 5
}
